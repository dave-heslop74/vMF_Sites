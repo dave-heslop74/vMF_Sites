{
 "cells": [
  {
   "cell_type": "markdown",
   "metadata": {},
   "source": [
    "# Site & Pole Directional  Uncertainty\n",
    "## by D. Heslop (david.heslop@anu.edu.au) & A. P. Roberts\n",
    "\n",
    "**Heslop, D. & A. P. Roberts (2020). Uncertainty propagation for paleomagnetic directions, *Journal of Geophysical Research* (*Submitted*).**"
   ]
  },
  {
   "cell_type": "code",
   "execution_count": null,
   "metadata": {},
   "outputs": [],
   "source": [
    "import vMF_Sites as si"
   ]
  },
  {
   "cell_type": "markdown",
   "metadata": {},
   "source": [
    "<hr style=\"height:2px;border:none;color:#333;background-color:#333;\" />\n",
    "\n",
    "## Site / Pole parameters\n",
    "Enter your PCA estimated directions in the form below (one row per specimen):\n",
    "1. **(A) Dec [deg.]** - Declination (or pole longitude) in degrees [value between 0$^\\circ$ and 360$^\\circ$]. \n",
    "2. **(B) Inc [deg.]** - Inclination (or pole latitude) in degrees [value between -90$^\\circ$ and +90$^\\circ$].\n",
    "3. **(C) N** - Number of directions used in the mean (or pole) [value $>$1].\n",
    "4. **(D) $\\alpha$95 [deg.]** - $\\alpha_{95}$ of mean (or pole) direction [value between 0$^\\circ$ and 90$^\\circ$]."
   ]
  },
  {
   "cell_type": "code",
   "execution_count": null,
   "metadata": {},
   "outputs": [],
   "source": [
    "X = {}\n",
    "X = si.input_frame(X)"
   ]
  },
  {
   "cell_type": "markdown",
   "metadata": {},
   "source": [
    "<hr style=\"height:2px;border:none;color:#333;background-color:#333;\" />\n",
    "\n",
    "## Process data\n",
    "Once your data form is complete, click the ```Process Data``` button."
   ]
  },
  {
   "cell_type": "code",
   "execution_count": null,
   "metadata": {},
   "outputs": [],
   "source": [
    "pe = si.LoadedButton(description=\"Process Data\", value=X)\n",
    "pe.on_click(si.process)\n",
    "display(pe)\n",
    "X = pe.value"
   ]
  }
 ],
 "metadata": {
  "kernelspec": {
   "display_name": "Python 3",
   "language": "python",
   "name": "python3"
  },
  "language_info": {
   "codemirror_mode": {
    "name": "ipython",
    "version": 3
   },
   "file_extension": ".py",
   "mimetype": "text/x-python",
   "name": "python",
   "nbconvert_exporter": "python",
   "pygments_lexer": "ipython3",
   "version": "3.6.6"
  }
 },
 "nbformat": 4,
 "nbformat_minor": 2
}
