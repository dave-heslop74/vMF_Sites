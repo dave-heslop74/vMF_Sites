{
 "cells": [
  {
   "cell_type": "markdown",
   "metadata": {},
   "source": [
    "# Unncertainty propagation for paleomagnetic directions\n",
    "## by D. Heslop (david.heslop@anu.edu.au) & A. P. Roberts\n",
    "\n",
    "**Heslop, D. & A. P. Roberts (2020). Unncertainty propagation for paleomagnetic directions, *Journal of Geophysical Research* (*Submitted*).**"
   ]
  },
  {
   "cell_type": "code",
   "execution_count": 1,
   "metadata": {},
   "outputs": [],
   "source": [
    "import vMF_Sites as si"
   ]
  },
  {
   "cell_type": "markdown",
   "metadata": {},
   "source": [
    "<hr style=\"height:2px;border:none;color:#333;background-color:#333;\" />\n",
    "\n",
    "## Specimen parameters\n",
    "Enter your PCA estimated directions in the form below (one row per specimen):\n",
    "1. **Dec / Plon [deg.]** - Declination or pole longitude in degrees [value between 0$^\\circ$ and 360$^\\circ$]. \n",
    "2. **Inc / Plat [deg.]** - Inclination or pole latitude in degrees [value between -90$^\\circ$ and +90$^\\circ$].\n",
    "3. **N** - Number of directions used in the PCA in mean / pole  [value $>$1].\n",
    "4. **A95 [deg.]** - A95 of mean direction or pole [value between 0$^\\circ$ and 90$^\\circ$]."
   ]
  },
  {
   "cell_type": "code",
   "execution_count": 2,
   "metadata": {},
   "outputs": [
    {
     "data": {
      "application/vnd.jupyter.widget-view+json": {
       "model_id": "2a97cc56ec034c84825711a7fce2f83b",
       "version_major": 2,
       "version_minor": 0
      },
      "text/plain": [
       "QgridWidget(grid_options={'fullWidthRows': True, 'syncColumnCellResize': True, 'forceFitColumns': True, 'defau…"
      ]
     },
     "metadata": {},
     "output_type": "display_data"
    }
   ],
   "source": [
    "X = {}\n",
    "X = si.input_frame(X)"
   ]
  },
  {
   "cell_type": "markdown",
   "metadata": {},
   "source": [
    "<hr style=\"height:2px;border:none;color:#333;background-color:#333;\" />\n",
    "\n",
    "## Process data\n",
    "Once your data form is complete, click the ```Process Data``` button."
   ]
  },
  {
   "cell_type": "code",
   "execution_count": 3,
   "metadata": {},
   "outputs": [
    {
     "data": {
      "application/vnd.jupyter.widget-view+json": {
       "model_id": "609104a47de840a6bdd9b979b3855898",
       "version_major": 2,
       "version_minor": 0
      },
      "text/plain": [
       "LoadedButton(description='Process Data', style=ButtonStyle())"
      ]
     },
     "metadata": {},
     "output_type": "display_data"
    },
    {
     "data": {
      "application/vnd.jupyter.widget-view+json": {
       "model_id": "cf9d8f7545d641cb8eda976aa123df04",
       "version_major": 2,
       "version_minor": 0
      },
      "text/plain": [
       "VBox(children=(HTML(value='<hr style=\"height:2px;border:none;color:#333;background-color:#333;\" />'), HTML(val…"
      ]
     },
     "metadata": {},
     "output_type": "display_data"
    },
    {
     "name": "stderr",
     "output_type": "stream",
     "text": [
      "/Users/dave/Documents/Manuscripts/Manuscripts 2019/Moment matching/Software/Site-level/vMF_Sites.py:15: RuntimeWarning: invalid value encountered in arccos\n",
      "  return np.arccos(1-(N-R)/R*(20**(1/(N-1))-1))/np.pi*180\n"
     ]
    },
    {
     "data": {
      "application/vnd.jupyter.widget-view+json": {
       "model_id": "5e9d6558311a49fba219434c6a5fa349",
       "version_major": 2,
       "version_minor": 0
      },
      "text/plain": [
       "VBox(children=(HTML(value='<hr style=\"height:2px;border:none;color:#333;background-color:#333;\" />'), HTML(val…"
      ]
     },
     "metadata": {},
     "output_type": "display_data"
    },
    {
     "data": {
      "application/vnd.jupyter.widget-view+json": {
       "model_id": "fb1882f4308b4b9581764d49bb1cb359",
       "version_major": 2,
       "version_minor": 0
      },
      "text/plain": [
       "VBox(children=(HTML(value='<hr style=\"height:2px;border:none;color:#333;background-color:#333;\" />'), HTML(val…"
      ]
     },
     "metadata": {},
     "output_type": "display_data"
    },
    {
     "data": {
      "application/vnd.jupyter.widget-view+json": {
       "model_id": "2c55601e0e374c9d8968cca914d35ce1",
       "version_major": 2,
       "version_minor": 0
      },
      "text/plain": [
       "VBox(children=(HTML(value='<hr style=\"height:2px;border:none;color:#333;background-color:#333;\" />'), HTML(val…"
      ]
     },
     "metadata": {},
     "output_type": "display_data"
    },
    {
     "data": {
      "application/vnd.jupyter.widget-view+json": {
       "model_id": "150df4a0c03a428685034d8061f73857",
       "version_major": 2,
       "version_minor": 0
      },
      "text/plain": [
       "VBox(children=(HTML(value='<hr style=\"height:2px;border:none;color:#333;background-color:#333;\" />'), HTML(val…"
      ]
     },
     "metadata": {},
     "output_type": "display_data"
    }
   ],
   "source": [
    "pe = si.LoadedButton(description=\"Process Data\", value=X)\n",
    "pe.on_click(si.process)\n",
    "display(pe)\n",
    "X = pe.value"
   ]
  },
  {
   "cell_type": "code",
   "execution_count": null,
   "metadata": {},
   "outputs": [],
   "source": []
  }
 ],
 "metadata": {
  "kernelspec": {
   "display_name": "Python 3",
   "language": "python",
   "name": "python3"
  },
  "language_info": {
   "codemirror_mode": {
    "name": "ipython",
    "version": 3
   },
   "file_extension": ".py",
   "mimetype": "text/x-python",
   "name": "python",
   "nbconvert_exporter": "python",
   "pygments_lexer": "ipython3",
   "version": "3.6.6"
  }
 },
 "nbformat": 4,
 "nbformat_minor": 2
}
